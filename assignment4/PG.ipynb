{
 "cells": [
  {
   "cell_type": "markdown",
   "metadata": {},
   "source": [
    "# Vanilla Policy Gradients for CartPole and Pong\n",
    "\n",
    "In this notebook, you will implement a Vanilla Policy Gradient algorithm to train an agent to play CartPole (and Pong later, if desired). This uses the OpenAI gym library. Make sure you can install and run it."
   ]
  },
  {
   "cell_type": "code",
   "execution_count": 1,
   "metadata": {
    "collapsed": false
   },
   "outputs": [
    {
     "name": "stderr",
     "output_type": "stream",
     "text": [
      "/Users/rajagrawal/anaconda/lib/python2.7/site-packages/matplotlib/font_manager.py:273: UserWarning: Matplotlib is building the font cache using fc-list. This may take a moment.\n",
      "  warnings.warn('Matplotlib is building the font cache using fc-list. This may take a moment.')\n"
     ]
    }
   ],
   "source": [
    "# Some setup.\n",
    "\n",
    "import time\n",
    "import numpy as np\n",
    "import matplotlib.pyplot as plt\n",
    "from agents.policy_gradients import *\n",
    "\n",
    "%matplotlib inline\n",
    "plt.rcParams['figure.figsize'] = (10.0,8.0)\n",
    "plt.rcParams['image.interpolation'] = 'linear'\n",
    "plt.rcParams['image.cmap'] = 'gray'\n",
    "\n",
    "%load_ext autoreload\n",
    "%autoreload 2\n",
    "\n",
    "def rel_error(x,y):\n",
    "    \"\"\" Returns relative error. \"\"\"\n",
    "    return np.max( np.abs(x-y) / np.maximum(1e-8,np.abs(x)+np.abs(y)) )"
   ]
  },
  {
   "cell_type": "markdown",
   "metadata": {},
   "source": [
    "# Discounted Rewards\n",
    "\n",
    "With policy gradients, we need rewards to scale the gradient terms appropriately. Implement the method `discount_rewards` and test your implementation using the following cell. For some games, such as CartPole, we can sum the rewards by considering all of the subsequent rewards for a given episode. For Pong, however, the rewards should be reset to 0 after any player scores.\n",
    "\n",
    "You will need to take care of both cases (set by the `do_reset` parameter). Do this even if you do not plan to test with Pong."
   ]
  },
  {
   "cell_type": "code",
   "execution_count": 9,
   "metadata": {
    "collapsed": false
   },
   "outputs": [
    {
     "name": "stdout",
     "output_type": "stream",
     "text": [
      "3.32314280378e-09\n",
      "2.75945079139e-09\n"
     ]
    }
   ],
   "source": [
    "test = np.array([0,0,0,0,0,0,0,0,0,0,1,0,0,0,0,0,0,0,-1,0,0,0,0,0,0,0,-1], np.float)\n",
    "output_1 = [-0.70017483, -0.70724731, -0.71439122, -0.72160729, -0.72889625, -0.73625884,\n",
    "            -0.7436958,  -0.75120788, -0.75879584, -0.76646044, -0.77420247, -1.7921237,\n",
    "            -1.81022596, -1.82851107, -1.84698088, -1.86563725, -1.88448208, -1.90351725,\n",
    "            -1.92274469, -0.93206535, -0.94148015, -0.95099005, -0.96059601, -0.970299,\n",
    "            -0.9801,     -0.99,       -1.        ]\n",
    "output_2 = [ 0.90438208,  0.91351725,  0.92274469,  0.93206535,  0.94148015,  0.95099005,\n",
    "             0.96059601,  0.970299,    0.9801,      0.99,        1.,         -0.93206535,\n",
    "            -0.94148015, -0.95099005, -0.96059601, -0.970299,   -0.9801,    -0.99,     -1.,\n",
    "            -0.93206535, -0.94148015, -0.95099005, -0.96059601, -0.970299,  -0.9801, -0.99, -1.]\n",
    "\n",
    "PG = PolicyGradient()\n",
    "rewards_1 = PG.discount_rewards(test, do_reset=False)\n",
    "rewards_2 = PG.discount_rewards(test, do_reset=True)\n",
    "\n",
    "# Should be around 1e-9\n",
    "print(rel_error(output_1, rewards_1))\n",
    "print(rel_error(output_2, rewards_2))"
   ]
  },
  {
   "cell_type": "markdown",
   "metadata": {},
   "source": [
    "# Policy Gradients for CartPole\n",
    "\n",
    "There are three places in the code to fill:\n",
    "\n",
    "1. The method `policy_backward`, which will compute the gradients.\n",
    "2. In the `train` method, you need to write the gradient for the final output layer (i.e., the last gradient in the overall computational graph) and store that in a list to be used at the end of the episode.\n",
    "3. Also in the `train` method, you need to utilize the discounted rewards you wrote and integrate it into the computation of the gradient. In addition, you need to keep the overall `grad_buffer` up to date.\n",
    "\n",
    "After you complete these, you should be able to train your agent on CartPole (and Pong, if desired).\n",
    "\n",
    "To get full credit for this portion run CartPole with `max_episodes=400`, and report the final running reward, as well as a plot of all the running reward values. (The cell after the training call should do these two automatically.) You should aim to get a final running_reward of **at least 200.00**, and the plot for the running_rewards should show a clear upward trend, though it may sometimes decrease if there are games that last abnormally long. For reference, our implementation usually achieves running rewards of 500-5000 after 400 episodes. From our experience, the performance varies a lot with CartPole; we have gotten scores as high as a million, so save any output that meets the 200-score requirement.\n",
    "\n",
    "Some additional comments:\n",
    "\n",
    "1. You do not need to change the default hyperparameters provided, such as `learning_rate`. If you need to change one of them to get the minimum performance -- or if you think there's a compelling reason to do so -- explain your changes in a new text/Markdown cell.\n",
    "\n",
    "2. Please keep `print_every=2` (or some other reasonable value) so that we can spot-check the rewards and running rewards per episode."
   ]
  },
  {
   "cell_type": "code",
   "execution_count": 23,
   "metadata": {
    "collapsed": false,
    "scrolled": false
   },
   "outputs": [
    {
     "name": "stderr",
     "output_type": "stream",
     "text": [
      "[2016-11-19 01:54:58,409] Making new env: CartPole-v0\n"
     ]
    },
    {
     "name": "stdout",
     "output_type": "stream",
     "text": [
      "Ep. 10 done, reward: 14.0, running_reward: 11.4181, time (sec): 0.0246\n",
      "Ep. 20 done, reward: 27.0, running_reward: 13.3521, time (sec): 0.0517\n",
      "Ep. 30 done, reward: 34.0, running_reward: 14.5665, time (sec): 0.0692\n",
      "Ep. 40 done, reward: 28.0, running_reward: 17.9235, time (sec): 0.0884\n",
      "Ep. 50 done, reward: 49.0, running_reward: 20.8317, time (sec): 0.1053\n",
      "Ep. 60 done, reward: 45.0, running_reward: 26.7966, time (sec): 0.1384\n",
      "Ep. 70 done, reward: 82.0, running_reward: 34.6337, time (sec): 0.1766\n",
      "Ep. 80 done, reward: 96.0, running_reward: 39.6959, time (sec): 0.2088\n",
      "Ep. 90 done, reward: 49.0, running_reward: 42.2337, time (sec): 0.2363\n",
      "Ep. 100 done, reward: 39.0, running_reward: 48.0025, time (sec): 0.2917\n",
      "Ep. 110 done, reward: 63.0, running_reward: 50.1772, time (sec): 0.3271\n",
      "Ep. 120 done, reward: 118.0, running_reward: 56.1255, time (sec): 0.3692\n",
      "Ep. 130 done, reward: 59.0, running_reward: 61.4760, time (sec): 0.4142\n",
      "Ep. 140 done, reward: 68.0, running_reward: 71.4025, time (sec): 0.4939\n",
      "Ep. 150 done, reward: 316.0, running_reward: 95.7811, time (sec): 0.6016\n",
      "Ep. 160 done, reward: 127.0, running_reward: 118.7453, time (sec): 0.7287\n",
      "Ep. 170 done, reward: 206.0, running_reward: 121.0584, time (sec): 0.8231\n",
      "Ep. 180 done, reward: 608.0, running_reward: 128.3436, time (sec): 0.9428\n",
      "Ep. 190 done, reward: 289.0, running_reward: 153.6766, time (sec): 1.1186\n",
      "Ep. 200 done, reward: 170.0, running_reward: 156.6804, time (sec): 1.1941\n",
      "Ep. 210 done, reward: 272.0, running_reward: 159.8384, time (sec): 1.2569\n",
      "Ep. 220 done, reward: 219.0, running_reward: 157.6898, time (sec): 1.3012\n",
      "Ep. 230 done, reward: 124.0, running_reward: 162.6485, time (sec): 1.3664\n",
      "Ep. 240 done, reward: 69.0, running_reward: 164.5671, time (sec): 1.4480\n",
      "Ep. 250 done, reward: 54.0, running_reward: 170.2666, time (sec): 1.5183\n",
      "Ep. 260 done, reward: 99.0, running_reward: 182.1200, time (sec): 1.6333\n",
      "Ep. 270 done, reward: 1553.0, running_reward: 208.6521, time (sec): 1.8061\n",
      "Ep. 280 done, reward: 158.0, running_reward: 229.9900, time (sec): 1.9384\n",
      "Ep. 290 done, reward: 234.0, running_reward: 232.4677, time (sec): 2.0371\n",
      "Ep. 300 done, reward: 171.0, running_reward: 269.3666, time (sec): 2.2401\n",
      "Ep. 310 done, reward: 252.0, running_reward: 277.7928, time (sec): 2.3750\n",
      "Ep. 320 done, reward: 340.0, running_reward: 287.9443, time (sec): 2.5948\n",
      "Ep. 330 done, reward: 142.0, running_reward: 336.3607, time (sec): 2.8828\n",
      "Ep. 340 done, reward: 14784.0, running_reward: 2018.5935, time (sec): 8.4578\n",
      "Ep. 350 done, reward: 109.0, running_reward: 1858.7357, time (sec): 8.5647\n",
      "Ep. 360 done, reward: 865.0, running_reward: 1719.7195, time (sec): 8.7161\n",
      "Ep. 370 done, reward: 546.0, running_reward: 1609.0197, time (sec): 8.8907\n",
      "Ep. 380 done, reward: 1924.0, running_reward: 1581.3068, time (sec): 9.3144\n",
      "Ep. 390 done, reward: 3690.0, running_reward: 1794.6799, time (sec): 10.4771\n",
      "Ep. 400 done, reward: 34195.0, running_reward: 4909.7308, time (sec): 20.9966\n",
      "Whew! All done with 400 episodes!\n"
     ]
    }
   ],
   "source": [
    "# Train an agent to play CartPole.\n",
    "PG = PolicyGradient(D=4, H=30, learning_rate=0.01)\n",
    "PG.train(environment=\"CartPole-v0\", max_episodes=400, print_every=10)"
   ]
  },
  {
   "cell_type": "code",
   "execution_count": 24,
   "metadata": {
    "collapsed": false
   },
   "outputs": [
    {
     "name": "stdout",
     "output_type": "stream",
     "text": [
      "Final CartPole running reward: 4909.73079256\n"
     ]
    },
    {
     "data": {
      "text/plain": [
       "<matplotlib.text.Text at 0x110157450>"
      ]
     },
     "execution_count": 24,
     "metadata": {},
     "output_type": "execute_result"
    },
    {
     "data": {
      "image/png": "[encoded data removed]",
      "text/plain": [
       "<matplotlib.figure.Figure at 0x11d839310>"
      ]
     },
     "metadata": {},
     "output_type": "display_data"
    }
   ],
   "source": [
    "# Print final running_reward and plot the results.\n",
    "print(\"Final CartPole running reward: {}\".format(PG.running_rewards[-1]))\n",
    "plt.figure()\n",
    "plt.plot(PG.running_rewards)\n",
    "plt.title(\"Running Rewards for CartPole\")\n",
    "plt.xlabel(\"Training Episodes\")\n",
    "plt.ylabel(\"Scores\")"
   ]
  },
  {
   "cell_type": "markdown",
   "metadata": {},
   "source": [
    "Most computers should be able to run larger, image-based environments like Pong. Although it will take much longer, especially on older machines, so this step is optional. To run Pong, do:"
   ]
  },
  {
   "cell_type": "code",
   "execution_count": null,
   "metadata": {
    "collapsed": false,
    "scrolled": false
   },
   "outputs": [],
   "source": [
    "PG = PolicyGradient(D=80*80, H=200, learning_rate=0.001)\n",
    "PG.train(environment=\"Pong-v0\", max_episodes=500, print_every=2)"
   ]
  },
  {
   "cell_type": "code",
   "execution_count": null,
   "metadata": {
    "collapsed": false
   },
   "outputs": [],
   "source": [
    "# Plot results.\n",
    "print(\"Final Pong running reward: {}\".format(PG.running_rewards[-1]))\n",
    "plt.figure()\n",
    "plt.plot(PG.running_rewards)\n",
    "plt.title(\"Running Rewards for Pong\")\n",
    "plt.xlabel(\"Training Episodes\")\n",
    "plt.ylabel(\"Scores\")"
   ]
  },
  {
   "cell_type": "markdown",
   "metadata": {},
   "source": [
    "# Optional\n",
    "\n",
    "Congratulations on implementing Policy Gradients! \n",
    "\n",
    "Consider doing the following extensions:\n",
    "\n",
    "1. Run the Pong code from the cells above and tune for best performance. Summarize your results. \n",
    "2. Introduce a baseline function for the rewards. This will also require refitting the baseline; we recommend using a linear function and Numpy's linear algebra solver. \n",
    "3. Try a neural network architecture which is substantially different from the current one we are using. Try using two hidden layers (instead of one) and/or using sigmoid non-linearity.\n",
    "4. Extend the model to control more than two actions. You should use a softmax output. Try it, e.g. on Pong with the default action (actions [0,2,3]). \n",
    "5. Try an environment other than CartPole or Pong and see how the same architecture works (you need to look up the documentation for OpenAI gym, and run get_action_meanings on the environment). You will need to check the following: (1) that the game can be reduced to two controls, or that you implemented part 4 above, (2) that the preprocessing procedure makes sense, and (3) that your reward discounting is appropriate - some environments restart each time a reward is returned. \n",
    "\n",
    "State which one of these you are doing in the following cell(s). Describe results/statistics, show at least one plot, and provide at least one conclusion in the following cell.\n",
    "\n",
    "These experiments will generally require you to write code outside of the areas you wrote earlier, so make sure you at least put in a code comment somewhere to explain what is new.\n",
    "\n",
    "If you do an extension, modify the names of the log files e.g. `PG.running_rewards` to keep them distinct. "
   ]
  },
  {
   "cell_type": "code",
   "execution_count": null,
   "metadata": {
    "collapsed": true
   },
   "outputs": [],
   "source": [
    "# TODO Report here with plots, etc."
   ]
  }
 ],
 "metadata": {
  "anaconda-cloud": {},
  "kernelspec": {
   "display_name": "Python [default]",
   "language": "python",
   "name": "python2"
  },
  "language_info": {
   "codemirror_mode": {
    "name": "ipython",
    "version": 2
   },
   "file_extension": ".py",
   "mimetype": "text/x-python",
   "name": "python",
   "nbconvert_exporter": "python",
   "pygments_lexer": "ipython2",
   "version": "2.7.11"
  }
 },
 "nbformat": 4,
 "nbformat_minor": 1
}
